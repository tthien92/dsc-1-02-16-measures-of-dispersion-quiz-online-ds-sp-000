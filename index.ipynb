{
 "cells": [
  {
   "cell_type": "markdown",
   "metadata": {},
   "source": [
    "# Measures of Dispersion - Quiz\n",
    "\n",
    "## Objectives\n",
    "You will be able to:\n",
    "* Describe the significance of calculating measures of dispersion for continuous data\n",
    "* Understand the formula and intuition behind mean absolute deviation, standard deviation and variance\n",
    "* Understand the formula and intuition behind quantiles/quartiles and percentiles\n",
    "* Understand and interpret Interquartile distances with box plots"
   ]
  },
  {
   "cell_type": "markdown",
   "metadata": {},
   "source": [
    "## Exercise 1\n",
    "Summary statistics for two samples of data are\n",
    "```\n",
    "Sample 1:\t\n",
    "mean = 19 \n",
    "variance = 10\n",
    "\n",
    "Sample 2:\t\n",
    "mean = 10\n",
    "variance = 19\n",
    "```\n",
    "Which sample has the larger spread of observations?"
   ]
  },
  {
   "cell_type": "code",
   "execution_count": 22,
   "metadata": {},
   "outputs": [],
   "source": [
    "# Sample 2 due to higher variance"
   ]
  },
  {
   "cell_type": "markdown",
   "metadata": {},
   "source": [
    "## Exercise 2\n",
    "Consider the following ordered set of data\n",
    "```\n",
    "4 4 4 9 5 0 5 1 5 3 5 7 5 8 6 2\n",
    "\n",
    "6 6 6 6 6 8 7 1 7 5 7 7 8 0 8 5\n",
    "```\n",
    "\n",
    "* What is the IQR? \n",
    "* Optional extension: Verify your answer in Python "
   ]
  },
  {
   "cell_type": "code",
   "execution_count": 7,
   "metadata": {},
   "outputs": [
    {
     "data": {
      "text/plain": [
       "[0,\n",
       " 0,\n",
       " 1,\n",
       " 1,\n",
       " 2,\n",
       " 3,\n",
       " 4,\n",
       " 4,\n",
       " 4,\n",
       " 5,\n",
       " 5,\n",
       " 5,\n",
       " 5,\n",
       " 5,\n",
       " 5,\n",
       " 5,\n",
       " 6,\n",
       " 6,\n",
       " 6,\n",
       " 6,\n",
       " 6,\n",
       " 6,\n",
       " 7,\n",
       " 7,\n",
       " 7,\n",
       " 7,\n",
       " 7,\n",
       " 8,\n",
       " 8,\n",
       " 8,\n",
       " 8,\n",
       " 9]"
      ]
     },
     "execution_count": 7,
     "metadata": {},
     "output_type": "execute_result"
    }
   ],
   "source": [
    "# IQR is 50% of data from 1st quartile to 3rd quartile:\n",
    "import math \n",
    "data_set = [4, 4, 4, 9, 5, 0, 5, 1, 5, 3, 5, 7, 5, 8, 6, 2, 6, 6, 6, 6, 6, 8, 7, 1, 7, 5, 7, 7, 8, 0, 8, 5]\n",
    "sorted(data_set)\n",
    "# mean = 5.5. Q1 = 4; Q3 = 7. 7-4 = 3 = IQR"
   ]
  },
  {
   "cell_type": "markdown",
   "metadata": {},
   "source": [
    "### Exercise 3\n",
    "Create a box-and-whisker plot for the judges' scores for an artist's performances in a talent competition.\n",
    "\n",
    "```\n",
    "Evan L\t52\n",
    "Nicole S  50\n",
    "Pamela A  47\n",
    "Chad O\t44\n",
    "Erin A\t39\n",
    "Jake P\t38\n",
    "Niecy N   36\n",
    "Kate G\t32\n",
    "```\n",
    "Create a box plot in matplotlib to identify the median for giving a final score to the artist. Are there any outliers ?"
   ]
  },
  {
   "cell_type": "code",
   "execution_count": 4,
   "metadata": {},
   "outputs": [
    {
     "data": {
      "image/png": "[encoded data removed]",
      "text/plain": [
       "<Figure size 432x288 with 1 Axes>"
      ]
     },
     "metadata": {},
     "output_type": "display_data"
    }
   ],
   "source": [
    "import matplotlib.pyplot as plt\n",
    "plt.style.use('ggplot') # for viewing a grid on plot\n",
    "x = [52, 50, 47, 44, 39, 38, 36, 32]\n",
    "plt.boxplot(x)\n",
    "plt.title (\"Retirement Age BoxPlot\")\n",
    "plt.show()"
   ]
  },
  {
   "cell_type": "code",
   "execution_count": 25,
   "metadata": {},
   "outputs": [],
   "source": [
    "# # There are no outliers"
   ]
  },
  {
   "cell_type": "markdown",
   "metadata": {},
   "source": [
    "### Exercise 4\n",
    "Imagine that the number of marriages registered over a 10 year period were as follows:\n",
    "\n",
    "Table 1.  Number of registered marriages\n",
    "```\n",
    "Year  Number of marriages\n",
    "\n",
    "1\t40,650\n",
    "2\t40,812\n",
    "3\t41,300\n",
    "4\t41,450\n",
    "5\t39,594\n",
    "6\t40,734\n",
    "7\t39,993\n",
    "8\t38,814\n",
    "9\t37,828\n",
    "10   35,716\n",
    "```\n",
    "Using the data above:\n",
    "\n",
    "####  Find the median "
   ]
  },
  {
   "cell_type": "code",
   "execution_count": 9,
   "metadata": {},
   "outputs": [
    {
     "data": {
      "text/plain": [
       "40321.5"
      ]
     },
     "execution_count": 9,
     "metadata": {},
     "output_type": "execute_result"
    }
   ],
   "source": [
    "data = [40650, 40812, 41300, 41450, 39594, 40734, 39993, 38814, 37828, 35716]\n",
    "sorted_data = sorted(data)\n",
    "(sorted_data[4]+sorted_data[5])/2 #Since it is an even number of items in our data, the median is an average of the\n",
    "#5th and 6th value--40321.5"
   ]
  },
  {
   "cell_type": "markdown",
   "metadata": {},
   "source": [
    "#### Find the upper and lower quartiles"
   ]
  },
  {
   "cell_type": "code",
   "execution_count": 10,
   "metadata": {},
   "outputs": [
    {
     "data": {
      "text/plain": [
       "[35716, 37828, 38814, 39594, 39993, 40650, 40734, 40812, 41300, 41450]"
      ]
     },
     "execution_count": 10,
     "metadata": {},
     "output_type": "execute_result"
    }
   ],
   "source": [
    "sorted_data\n",
    "# Q1 = 38.814 Q3 = 40.812 # it would be the 3rd and 8th item in our sorted data list, respectively"
   ]
  },
  {
   "cell_type": "markdown",
   "metadata": {},
   "source": [
    "#### Calculate the interquartile range\n"
   ]
  },
  {
   "cell_type": "code",
   "execution_count": 28,
   "metadata": {},
   "outputs": [],
   "source": [
    "# 40812-38814 = 1998"
   ]
  },
  {
   "cell_type": "markdown",
   "metadata": {},
   "source": [
    "#### Plot a histogram to verify your answers"
   ]
  },
  {
   "cell_type": "code",
   "execution_count": 12,
   "metadata": {},
   "outputs": [
    {
     "data": {
      "image/png": "[encoded data removed]",
      "text/plain": [
       "<Figure size 432x288 with 1 Axes>"
      ]
     },
     "metadata": {},
     "output_type": "display_data"
    }
   ],
   "source": [
    "import matplotlib.pyplot as plt\n",
    "plt.style.use('ggplot') # for viewing a grid on plot\n",
    "plt.boxplot(sorted_data)\n",
    "plt.title (\"Retirement Age BoxPlot\")\n",
    "plt.show()"
   ]
  },
  {
   "cell_type": "code",
   "execution_count": null,
   "metadata": {},
   "outputs": [],
   "source": []
  }
 ],
 "metadata": {
  "kernelspec": {
   "display_name": "Python 3",
   "language": "python",
   "name": "python3"
  },
  "language_info": {
   "codemirror_mode": {
    "name": "ipython",
    "version": 3
   },
   "file_extension": ".py",
   "mimetype": "text/x-python",
   "name": "python",
   "nbconvert_exporter": "python",
   "pygments_lexer": "ipython3",
   "version": "3.6.4"
  }
 },
 "nbformat": 4,
 "nbformat_minor": 2
}
